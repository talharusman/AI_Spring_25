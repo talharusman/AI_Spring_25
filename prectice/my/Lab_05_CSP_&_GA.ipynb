{
  "cells": [
    {
      "cell_type": "markdown",
      "metadata": {
        "id": "P_uGw_ttvMGZ"
      },
      "source": [
        "**CSP** **Constraint Satisfaction problem**"
      ]
    },
    {
      "cell_type": "code",
      "execution_count": 1,
      "metadata": {
        "id": "YQfcYZGYvWYZ"
      },
      "outputs": [
        {
          "name": "stdout",
          "output_type": "stream",
          "text": [
            "Defaulting to user installation because normal site-packages is not writeable\n",
            "Requirement already satisfied: ortools in c:\\users\\dell\\appdata\\roaming\\python\\python312\\site-packages (9.12.4544)\n",
            "Requirement already satisfied: absl-py>=2.0.0 in c:\\users\\dell\\appdata\\roaming\\python\\python312\\site-packages (from ortools) (2.2.2)\n",
            "Requirement already satisfied: numpy>=1.13.3 in c:\\users\\dell\\appdata\\roaming\\python\\python312\\site-packages (from ortools) (2.1.1)\n",
            "Requirement already satisfied: pandas>=2.0.0 in c:\\users\\dell\\appdata\\roaming\\python\\python312\\site-packages (from ortools) (2.2.3)\n",
            "Requirement already satisfied: protobuf<5.30,>=5.29.3 in c:\\users\\dell\\appdata\\roaming\\python\\python312\\site-packages (from ortools) (5.29.4)\n",
            "Requirement already satisfied: immutabledict>=3.0.0 in c:\\users\\dell\\appdata\\roaming\\python\\python312\\site-packages (from ortools) (4.2.1)\n",
            "Requirement already satisfied: python-dateutil>=2.8.2 in c:\\users\\dell\\appdata\\roaming\\python\\python312\\site-packages (from pandas>=2.0.0->ortools) (2.9.0.post0)\n",
            "Requirement already satisfied: pytz>=2020.1 in c:\\users\\dell\\appdata\\roaming\\python\\python312\\site-packages (from pandas>=2.0.0->ortools) (2024.2)\n",
            "Requirement already satisfied: tzdata>=2022.7 in c:\\users\\dell\\appdata\\roaming\\python\\python312\\site-packages (from pandas>=2.0.0->ortools) (2024.2)\n",
            "Requirement already satisfied: six>=1.5 in c:\\users\\dell\\appdata\\roaming\\python\\python312\\site-packages (from python-dateutil>=2.8.2->pandas>=2.0.0->ortools) (1.16.0)\n"
          ]
        }
      ],
      "source": [
        "!pip install ortools"
      ]
    },
    {
      "cell_type": "code",
      "execution_count": 2,
      "metadata": {
        "id": "PpPWU2sNvgFZ"
      },
      "outputs": [
        {
          "name": "stdout",
          "output_type": "stream",
          "text": [
            "load C:\\Users\\Dell\\AppData\\Roaming\\Python\\Python312\\site-packages\\ortools\\.libs\\zlib1.dll...\n",
            "load C:\\Users\\Dell\\AppData\\Roaming\\Python\\Python312\\site-packages\\ortools\\.libs\\abseil_dll.dll...\n",
            "load C:\\Users\\Dell\\AppData\\Roaming\\Python\\Python312\\site-packages\\ortools\\.libs\\utf8_validity.dll...\n",
            "load C:\\Users\\Dell\\AppData\\Roaming\\Python\\Python312\\site-packages\\ortools\\.libs\\re2.dll...\n",
            "load C:\\Users\\Dell\\AppData\\Roaming\\Python\\Python312\\site-packages\\ortools\\.libs\\libprotobuf.dll...\n",
            "load C:\\Users\\Dell\\AppData\\Roaming\\Python\\Python312\\site-packages\\ortools\\.libs\\highs.dll...\n",
            "load C:\\Users\\Dell\\AppData\\Roaming\\Python\\Python312\\site-packages\\ortools\\.libs\\ortools.dll...\n"
          ]
        }
      ],
      "source": [
        "from ortools.sat.python import cp_model"
      ]
    },
    {
      "cell_type": "code",
      "execution_count": 3,
      "metadata": {
        "id": "LKycP1aovifh"
      },
      "outputs": [],
      "source": [
        "model = cp_model.CpModel()"
      ]
    },
    {
      "cell_type": "code",
      "execution_count": 4,
      "metadata": {
        "id": "izVzdlDgvlKB"
      },
      "outputs": [],
      "source": [
        "#Defining Variables for CSP\n",
        "num_vals = 3\n",
        "x = model.new_int_var(0, num_vals - 1, \"x\")\n",
        "y = model.new_int_var(0, num_vals - 1, \"y\")\n",
        "z = model.new_int_var(0, num_vals - 1, \"z\")"
      ]
    },
    {
      "cell_type": "code",
      "execution_count": 5,
      "metadata": {
        "id": "aog9hyvVvpVJ"
      },
      "outputs": [
        {
          "data": {
            "text/plain": [
              "<ortools.sat.python.cp_model.Constraint at 0x2b106243170>"
            ]
          },
          "execution_count": 5,
          "metadata": {},
          "output_type": "execute_result"
        }
      ],
      "source": [
        "#Defining the constraint\n",
        "model.add(x != y)"
      ]
    },
    {
      "cell_type": "code",
      "execution_count": 6,
      "metadata": {
        "id": "1dbnLvdovqA5"
      },
      "outputs": [],
      "source": [
        "#Calling the solver\n",
        "solver = cp_model.CpSolver()\n",
        "status = solver.solve(model)"
      ]
    },
    {
      "cell_type": "code",
      "execution_count": 7,
      "metadata": {
        "id": "GsCP6W5KvsQx"
      },
      "outputs": [
        {
          "name": "stdout",
          "output_type": "stream",
          "text": [
            "x = 1\n",
            "y = 0\n",
            "z = 0\n"
          ]
        }
      ],
      "source": [
        "if status == cp_model.OPTIMAL or status == cp_model.FEASIBLE:\n",
        "    print(f\"x = {solver.value(x)}\")\n",
        "    print(f\"y = {solver.value(y)}\")\n",
        "    print(f\"z = {solver.value(z)}\")\n",
        "else:\n",
        "    print(\"No solution found.\")"
      ]
    },
    {
      "cell_type": "code",
      "execution_count": 8,
      "metadata": {
        "id": "2EKgyiH-vvH5"
      },
      "outputs": [
        {
          "name": "stdout",
          "output_type": "stream",
          "text": [
            "x = 1\n",
            "y = 0\n",
            "z = 0\n"
          ]
        }
      ],
      "source": [
        "\"\"\"Simple solve.\"\"\"\n",
        "from ortools.sat.python import cp_model\n",
        "\n",
        "\n",
        "def simple_sat_program():\n",
        "    \"\"\"Minimal CP-SAT example to showcase calling the solver.\"\"\"\n",
        "    # Creates the model.\n",
        "    model = cp_model.CpModel()\n",
        "\n",
        "    # Creates the variables.\n",
        "    num_vals = 3\n",
        "    x = model.new_int_var(0, num_vals - 1, \"x\")\n",
        "    y = model.new_int_var(0, num_vals - 1, \"y\")\n",
        "    z = model.new_int_var(0, num_vals - 1, \"z\")\n",
        "\n",
        "    # Creates the constraints.\n",
        "    model.add(x != y)\n",
        "\n",
        "    # Creates a solver and solves the model.\n",
        "    solver = cp_model.CpSolver()\n",
        "    status = solver.solve(model)\n",
        "\n",
        "    if status == cp_model.OPTIMAL or status == cp_model.FEASIBLE:\n",
        "        print(f\"x = {solver.value(x)}\")\n",
        "        print(f\"y = {solver.value(y)}\")\n",
        "        print(f\"z = {solver.value(z)}\")\n",
        "    else:\n",
        "        print(\"No solution found.\")\n",
        "\n",
        "\n",
        "simple_sat_program()"
      ]
    },
    {
      "cell_type": "code",
      "execution_count": 9,
      "metadata": {
        "id": "HUBB1N7Iv1j5"
      },
      "outputs": [],
      "source": [
        "class VarArraySolutionPrinter(cp_model.CpSolverSolutionCallback):\n",
        "    \"\"\"Print intermediate solutions.\"\"\"\n",
        "\n",
        "    def __init__(self, variables: list[cp_model.IntVar]):\n",
        "        cp_model.CpSolverSolutionCallback.__init__(self)\n",
        "        self.__variables = variables\n",
        "        self.__solution_count = 0\n",
        "\n",
        "    def on_solution_callback(self) -> None:\n",
        "        self.__solution_count += 1\n",
        "        for v in self.__variables:\n",
        "            print(f\"{v}={self.value(v)}\", end=\" \")\n",
        "        print()\n",
        "\n",
        "    @property\n",
        "    def solution_count(self) -> int:\n",
        "        return self.__solution_count"
      ]
    },
    {
      "cell_type": "code",
      "execution_count": 10,
      "metadata": {
        "id": "H0_r9qDRv53J"
      },
      "outputs": [
        {
          "name": "stdout",
          "output_type": "stream",
          "text": [
            "x=1 y=0 z=0 \n",
            "x=2 y=0 z=0 \n",
            "x=2 y=0 z=1 \n",
            "x=1 y=0 z=1 \n",
            "x=2 y=1 z=1 \n",
            "x=2 y=1 z=0 \n",
            "x=2 y=1 z=2 \n",
            "x=2 y=0 z=2 \n",
            "x=1 y=0 z=2 \n",
            "x=0 y=1 z=2 \n",
            "x=0 y=1 z=1 \n",
            "x=0 y=2 z=1 \n",
            "x=0 y=2 z=2 \n",
            "x=1 y=2 z=2 \n",
            "x=1 y=2 z=1 \n",
            "x=1 y=2 z=0 \n",
            "x=0 y=2 z=0 \n",
            "x=0 y=1 z=0 \n"
          ]
        }
      ],
      "source": [
        "solver = cp_model.CpSolver()\n",
        "solution_printer = VarArraySolutionPrinter([x, y, z])\n",
        "# Enumerate all solutions.\n",
        "solver.parameters.enumerate_all_solutions = True\n",
        "# Solve.\n",
        "status = solver.solve(model, solution_printer)"
      ]
    },
    {
      "cell_type": "code",
      "execution_count": 11,
      "metadata": {
        "id": "Iun84GdXv-QB"
      },
      "outputs": [
        {
          "name": "stdout",
          "output_type": "stream",
          "text": [
            "x=1 y=0 z=0 \n",
            "x=2 y=0 z=0 \n",
            "x=2 y=0 z=1 \n",
            "x=1 y=0 z=1 \n",
            "x=2 y=1 z=1 \n",
            "x=2 y=1 z=0 \n",
            "x=2 y=1 z=2 \n",
            "x=2 y=0 z=2 \n",
            "x=1 y=0 z=2 \n",
            "x=0 y=1 z=2 \n",
            "x=0 y=1 z=1 \n",
            "x=0 y=2 z=1 \n",
            "x=0 y=2 z=2 \n",
            "x=1 y=2 z=2 \n",
            "x=1 y=2 z=1 \n",
            "x=1 y=2 z=0 \n",
            "x=0 y=2 z=0 \n",
            "x=0 y=1 z=0 \n",
            "Status = OPTIMAL\n",
            "Number of solutions found: 18\n"
          ]
        }
      ],
      "source": [
        "from ortools.sat.python import cp_model\n",
        "\n",
        "\n",
        "class VarArraySolutionPrinter(cp_model.CpSolverSolutionCallback):\n",
        "    \"\"\"Print intermediate solutions.\"\"\"\n",
        "\n",
        "    def __init__(self, variables: list[cp_model.IntVar]):\n",
        "        cp_model.CpSolverSolutionCallback.__init__(self)\n",
        "        self.__variables = variables\n",
        "        self.__solution_count = 0\n",
        "\n",
        "    def on_solution_callback(self) -> None:\n",
        "        self.__solution_count += 1\n",
        "        for v in self.__variables:\n",
        "            print(f\"{v}={self.value(v)}\", end=\" \")\n",
        "        print()\n",
        "\n",
        "    @property\n",
        "    def solution_count(self) -> int:\n",
        "        return self.__solution_count\n",
        "\n",
        "\n",
        "def search_for_all_solutions_sample_sat():\n",
        "    \"\"\"Showcases calling the solver to search for all solutions.\"\"\"\n",
        "    # Creates the model.\n",
        "    model = cp_model.CpModel()\n",
        "\n",
        "    # Creates the variables.\n",
        "    num_vals = 3\n",
        "    x = model.new_int_var(0, num_vals - 1, \"x\")\n",
        "    y = model.new_int_var(0, num_vals - 1, \"y\")\n",
        "    z = model.new_int_var(0, num_vals - 1, \"z\")\n",
        "\n",
        "    # Create the constraints.\n",
        "    model.add(x != y)\n",
        "\n",
        "    # Create a solver and solve.\n",
        "    solver = cp_model.CpSolver()\n",
        "    solution_printer = VarArraySolutionPrinter([x, y, z])\n",
        "    # Enumerate all solutions.\n",
        "    solver.parameters.enumerate_all_solutions = True\n",
        "    # Solve.\n",
        "    status = solver.solve(model, solution_printer)\n",
        "\n",
        "    print(f\"Status = {solver.status_name(status)}\")\n",
        "    print(f\"Number of solutions found: {solution_printer.solution_count}\")\n",
        "\n",
        "\n",
        "search_for_all_solutions_sample_sat()"
      ]
    },
    {
      "cell_type": "markdown",
      "metadata": {
        "id": "k099A3CT1z0x"
      },
      "source": [
        "**Scenario # 2**"
      ]
    },
    {
      "cell_type": "code",
      "execution_count": 12,
      "metadata": {
        "id": "xgd7rrDQ1zeB"
      },
      "outputs": [],
      "source": [
        "from ortools.sat.python import cp_model"
      ]
    },
    {
      "cell_type": "code",
      "execution_count": 16,
      "metadata": {
        "id": "rtc5lf2f1-UB"
      },
      "outputs": [
        {
          "name": "stdout",
          "output_type": "stream",
          "text": [
            "Maximum of objective function: 35.0\n",
            "\n",
            "x = 7\n",
            "y = 3\n",
            "z = 5\n",
            "\n",
            "Statistics\n",
            "  status   : OPTIMAL\n",
            "  conflicts: 6\n",
            "  branches : 11\n",
            "  wall time: 0.0265471 s\n"
          ]
        }
      ],
      "source": [
        "def main() -> None:\n",
        "    \"\"\"Minimal CP-SAT example to showcase calling the solver.\"\"\"\n",
        "    # Creates the model.\n",
        "    model = cp_model.CpModel()\n",
        "\n",
        "    # Creates the variables.\n",
        "    var_upper_bound = max(50, 45, 37)\n",
        "    x = model.new_int_var(0, var_upper_bound, \"x\")\n",
        "    y = model.new_int_var(0, var_upper_bound, \"y\")\n",
        "    z = model.new_int_var(0, var_upper_bound, \"z\")\n",
        "\n",
        "    # Creates the constraints.\n",
        "    model.add(2 * x + 7 * y + 3 * z <= 50)\n",
        "    model.add(3 * x - 5 * y + 7 * z <= 45)\n",
        "    model.add(5 * x + 2 * y - 6 * z <= 37)\n",
        "\n",
        "    model.maximize(2 * x + 2 * y + 3 * z)\n",
        "\n",
        "    # Creates a solver and solves the model.\n",
        "    solver = cp_model.CpSolver()\n",
        "    status = solver.solve(model)\n",
        "\n",
        "    if status == cp_model.OPTIMAL or status == cp_model.FEASIBLE:\n",
        "        print(f\"Maximum of objective function: {solver.objective_value}\\n\")\n",
        "        print(f\"x = {solver.value(x)}\")\n",
        "        print(f\"y = {solver.value(y)}\")\n",
        "        print(f\"z = {solver.value(z)}\")\n",
        "    else:\n",
        "        print(\"No solution found.\")\n",
        "\n",
        "    # Statistics.\n",
        "    print(\"\\nStatistics\")\n",
        "    print(f\"  status   : {solver.status_name(status)}\")\n",
        "    print(f\"  conflicts: {solver.num_conflicts}\")\n",
        "    print(f\"  branches : {solver.num_branches}\")\n",
        "    print(f\"  wall time: {solver.wall_time} s\")\n",
        "\n",
        "\n",
        "main()"
      ]
    },
    {
      "cell_type": "markdown",
      "metadata": {
        "id": "sMaUxZWpuLHN"
      },
      "source": [
        "**TRAVELLING SALESMAN PROBLEM**"
      ]
    },
    {
      "cell_type": "markdown",
      "metadata": {
        "id": "7yEeBAKovV7g"
      },
      "source": []
    },
    {
      "cell_type": "code",
      "execution_count": 17,
      "metadata": {
        "id": "FU4Ge1GHw_N_"
      },
      "outputs": [
        {
          "name": "stdout",
          "output_type": "stream",
          "text": [
            "Initial Population: [[2, 3, 1, 0, 4], [3, 0, 2, 4, 1], [1, 0, 2, 3, 4], [2, 4, 0, 1, 3], [4, 2, 0, 1, 3], [2, 3, 0, 1, 4], [1, 3, 0, 2, 4], [3, 0, 1, 2, 4], [0, 4, 3, 2, 1], [3, 1, 4, 0, 2]]\n"
          ]
        }
      ],
      "source": [
        "import random\n",
        "import math\n",
        "\n",
        "\n",
        "# Locations with (x, y) coordinates\n",
        "locations = [(0, 0), (1, 5), (2, 3), (5, 2), (6, 6)]\n",
        "\n",
        "\n",
        "# Fitness function: Calculate the total distance of a route\n",
        "def calculate_distance(route):\n",
        "    total_distance = 0\n",
        "    for i in range(len(route) - 1):      #looping over locations\n",
        "        x1, y1 = locations[route[i]]     #coordinates at i\n",
        "        x2, y2 = locations[route[i + 1]] #coordinates at j\n",
        "        #distance between the above two cities\n",
        "        total_distance += math.sqrt((x2 - x1)**2 + (y2 - y1)**2)\n",
        "    return total_distance\n",
        "\n",
        "# Generate a random route\n",
        "def create_random_route():\n",
        "    route = list(range(len(locations)))\n",
        "    random.shuffle(route)\n",
        "    return route\n",
        "\n",
        "# Initialize population\n",
        "population_size = 10\n",
        "population = [create_random_route() for _ in range(population_size)]\n",
        "print(\"Initial Population:\", population)"
      ]
    },
    {
      "cell_type": "code",
      "execution_count": 18,
      "metadata": {
        "id": "zdUlVNqBt0Sq"
      },
      "outputs": [
        {
          "name": "stdout",
          "output_type": "stream",
          "text": [
            "Fitness Scores: [21.746578547999732, 19.089735596191275, 15.989954074842814, 23.584300887831354, 18.704570789056774, 18.745481494488452, 18.990716082598496, 17.720252298227077, 18.0067326375244, 22.189852163295342]\n"
          ]
        }
      ],
      "source": [
        "# Evaluate fitness for each route in the population\n",
        "fitness_scores = [calculate_distance(route) for route in population]\n",
        "print(\"Fitness Scores:\", fitness_scores)"
      ]
    },
    {
      "cell_type": "code",
      "execution_count": 19,
      "metadata": {
        "id": "elKEOMmpt08D"
      },
      "outputs": [
        {
          "name": "stdout",
          "output_type": "stream",
          "text": [
            "Selected Parents: [[1, 0, 2, 3, 4], [3, 0, 1, 2, 4], [0, 4, 3, 2, 1], [4, 2, 0, 1, 3], [2, 3, 0, 1, 4]]\n"
          ]
        }
      ],
      "source": [
        "# Select the best routes (parents) based on fitness\n",
        "def select_parents(population, fitness_scores):\n",
        "    # Select top 50% of the population\n",
        "    sorted_population = [route for _, route in sorted(zip(fitness_scores, population))]\n",
        "    return sorted_population[:len(population)//2]\n",
        "\n",
        "\n",
        "parents = select_parents(population, fitness_scores)\n",
        "print(\"Selected Parents:\", parents)"
      ]
    },
    {
      "cell_type": "code",
      "execution_count": 20,
      "metadata": {
        "id": "6AaYFbYvt3dn"
      },
      "outputs": [],
      "source": [
        "# Combine two parents to create offspring\n",
        "def crossover(parent1, parent2):\n",
        "    start, end = sorted(random.sample(range(len(parent1)), 2))\n",
        "    child = parent1[start:end]\n",
        "    for gene in parent2:\n",
        "        if gene not in child:\n",
        "            child.append(gene)\n",
        "    return child"
      ]
    },
    {
      "cell_type": "code",
      "execution_count": 21,
      "metadata": {
        "id": "QSn93bRkt666"
      },
      "outputs": [
        {
          "name": "stdout",
          "output_type": "stream",
          "text": [
            "New Population after Crossover: [[2, 3, 0, 4, 1], [1, 0, 2, 3, 4], [2, 0, 4, 3, 1], [0, 2, 4, 1, 3], [2, 0, 4, 3, 1], [1, 0, 2, 4, 3], [4, 2, 0, 3, 1], [1, 0, 2, 3, 4], [4, 2, 0, 3, 1], [2, 3, 0, 1, 4]]\n"
          ]
        }
      ],
      "source": [
        "# Create new population using crossover\n",
        "new_population = []\n",
        "for i in range(population_size):\n",
        "    parent1, parent2 = random.sample(parents, 2)\n",
        "    child = crossover(parent1, parent2)\n",
        "    new_population.append(child)\n",
        "print(\"New Population after Crossover:\", new_population)"
      ]
    },
    {
      "cell_type": "code",
      "execution_count": 22,
      "metadata": {
        "id": "Xw8maQqYt-I9"
      },
      "outputs": [],
      "source": [
        "# Randomly swap two locations in a route\n",
        "def mutate(route):\n",
        "    idx1, idx2 = random.sample(range(len(route)), 2)\n",
        "    route[idx1], route[idx2] = route[idx2], route[idx1]\n",
        "    return route"
      ]
    },
    {
      "cell_type": "code",
      "execution_count": 23,
      "metadata": {
        "id": "RQEzUksYuAuB"
      },
      "outputs": [
        {
          "name": "stdout",
          "output_type": "stream",
          "text": [
            "Population after Mutation: [[2, 3, 0, 4, 1], [1, 2, 0, 3, 4], [2, 0, 4, 3, 1], [0, 2, 4, 1, 3], [2, 0, 4, 3, 1], [1, 0, 2, 4, 3], [4, 2, 0, 3, 1], [1, 0, 2, 3, 4], [4, 2, 0, 3, 1], [2, 3, 0, 1, 4]]\n"
          ]
        }
      ],
      "source": [
        "mutation_rate = 0.1\n",
        "for i in range(len(new_population)):\n",
        "    if random.random() < mutation_rate:\n",
        "        new_population[i] = mutate(new_population[i])\n",
        "print(\"Population after Mutation:\", new_population)"
      ]
    },
    {
      "cell_type": "code",
      "execution_count": 24,
      "metadata": {
        "id": "J1vDW3NduDc-"
      },
      "outputs": [
        {
          "name": "stdout",
          "output_type": "stream",
          "text": [
            "Best Route: [1, 2, 0, 3, 4]\n",
            "Best Distance: 15.349889685715944\n"
          ]
        }
      ],
      "source": [
        "# Convergence criteria: Stop if no improvement for 10 generations\n",
        "best_fitness = min(fitness_scores)\n",
        "no_improvement_count = 0\n",
        "max_generations = 100\n",
        "generation = 0\n",
        "\n",
        "\n",
        "while generation < max_generations and no_improvement_count < 10:\n",
        "    # Evaluate fitness of new population in each generation\n",
        "    fitness_scores = [calculate_distance(route) for route in new_population]\n",
        "    current_best_fitness = min(fitness_scores)\n",
        "\n",
        "    # Updates best_fitness if a better route is found\n",
        "    if current_best_fitness < best_fitness:\n",
        "        best_fitness = current_best_fitness\n",
        "        no_improvement_count = 0\n",
        "    else:\n",
        "        no_improvement_count += 1\n",
        "\n",
        "    # Selects parents from current population based on fitness\n",
        "    parents = select_parents(new_population, fitness_scores)\n",
        "\n",
        "\n",
        "    # Generates new population using crossover\n",
        "    new_population = [crossover(random.choice(parents), random.choice(parents)) for _ in range(population_size)]\n",
        "\n",
        "\n",
        "\n",
        "\n",
        "    # Applies mutation to the new population with a small probability\n",
        "    for i in range(len(new_population)):\n",
        "        if random.random() < mutation_rate:\n",
        "            new_population[i] = mutate(new_population[i])\n",
        "    # Proceed to next generation\n",
        "    generation += 1\n",
        "\n",
        "\n",
        "print(\"Best Route:\", new_population[fitness_scores.index(min(fitness_scores))])\n",
        "print(\"Best Distance:\", min(fitness_scores))"
      ]
    },
    {
      "cell_type": "markdown",
      "metadata": {
        "id": "lITwTqa8uSDr"
      },
      "source": [
        "**DUTIES SCHEDULING PROBLEM**"
      ]
    },
    {
      "cell_type": "code",
      "execution_count": null,
      "metadata": {
        "id": "oVMQ9FlMuRuF"
      },
      "outputs": [],
      "source": [
        "import random\n",
        "# Configuration\n",
        "num_staff = 5  # Number of employees\n",
        "num_shifts = 21  # 7 days * 3 shifts per day\n",
        "max_shifts_per_staff = 7\n",
        "required_staff_per_shift = 2\n",
        "population_size = 10\n",
        "mutation_rate = 0.1\n",
        "max_generations = 1000\n",
        "\n",
        "\n",
        "# Fitness function (lower is better)\n",
        "def evaluate_fitness(schedule):\n",
        "    penalty = 0\n",
        "\n",
        "\n",
        "    # Check shift coverage\n",
        "    for shift in range(num_shifts):\n",
        "        assigned_count = sum(schedule[staff][shift] for staff in range(num_staff))\n",
        "        if assigned_count < required_staff_per_shift:\n",
        "            penalty += (required_staff_per_shift - assigned_count) * 10  # Understaffed penalty\n",
        "\n",
        "\n",
        "    # Check consecutive shifts for each staff\n",
        "    for staff in range(num_staff):\n",
        "        for shift in range(num_shifts - 1):\n",
        "            if schedule[staff][shift] == 1 and schedule[staff][shift + 1] == 1:\n",
        "                penalty += 5  # Penalty for consecutive shifts\n",
        "\n",
        "\n",
        "    return penalty"
      ]
    },
    {
      "cell_type": "code",
      "execution_count": null,
      "metadata": {
        "id": "GaQfN7xtuJ7v"
      },
      "outputs": [],
      "source": [
        "# Create a random schedule\n",
        "def create_random_schedule():\n",
        "    schedule = [[0] * num_shifts for _ in range(num_staff)]\n",
        "    for staff in range(num_staff):\n",
        "        assigned_shifts = random.sample(range(num_shifts), random.randint(3, max_shifts_per_staff))\n",
        "        for shift in assigned_shifts:\n",
        "            schedule[staff][shift] = 1\n",
        "    return schedule"
      ]
    },
    {
      "cell_type": "code",
      "execution_count": null,
      "metadata": {
        "id": "0kdwzM7ouiWW"
      },
      "outputs": [],
      "source": [
        "# Selection (Top 50%)\n",
        "def select_parents(population, fitness_scores):\n",
        "    sorted_population = [x for _, x in sorted(zip(fitness_scores, population))]\n",
        "    return sorted_population[:len(population) // 2]"
      ]
    },
    {
      "cell_type": "code",
      "execution_count": null,
      "metadata": {
        "id": "OPFXnxYHulBo"
      },
      "outputs": [],
      "source": [
        "# Crossover (Single point crossover)\n",
        "def crossover(parent1, parent2):\n",
        "    point = random.randint(0, num_shifts - 1)\n",
        "    child = [parent1[i][:point] + parent2[i][point:] for i in range(num_staff)]\n",
        "    return child"
      ]
    },
    {
      "cell_type": "code",
      "execution_count": null,
      "metadata": {
        "id": "G6Xcw1xounKT"
      },
      "outputs": [],
      "source": [
        "# Mutation (Swap shifts for one staff)\n",
        "def mutate(schedule):\n",
        "    staff = random.randint(0, num_staff - 1)\n",
        "    shift1, shift2 = random.sample(range(num_shifts), 2)\n",
        "    schedule[staff][shift1], schedule[staff][shift2] = schedule[staff][shift2], schedule[staff][shift1]\n",
        "    return schedule"
      ]
    },
    {
      "cell_type": "code",
      "execution_count": null,
      "metadata": {
        "id": "OS33qYs9up0E"
      },
      "outputs": [],
      "source": [
        "# Initial population\n",
        "population = [create_random_schedule() for _ in range(population_size)]\n",
        "\n",
        "\n",
        "# Genetic Algorithm loop\n",
        "for generation in range(max_generations):\n",
        "    fitness_scores = [evaluate_fitness(schedule) for schedule in population]\n",
        "    best_fitness = min(fitness_scores)\n",
        "    print(f\"Generation {generation + 1}, Best Fitness: {best_fitness}\")\n",
        "    parents = select_parents(population, fitness_scores)\n",
        "    new_population = []\n",
        "    while len(new_population) < population_size:\n",
        "        parent1, parent2 = random.sample(parents, 2)\n",
        "        child = crossover(parent1, parent2)\n",
        "        if random.random() < mutation_rate:\n",
        "            child = mutate(child)\n",
        "        new_population.append(child)\n",
        "\n",
        "\n",
        "    population = new_population\n",
        "\n",
        "\n",
        "# Best schedule\n",
        "best_schedule = population[fitness_scores.index(min(fitness_scores))]\n",
        "print(\"\\nBest Schedule (Staff x Shifts):\")\n",
        "for staff in range(num_staff):\n",
        "    print(f\"Staff {staff + 1}: {best_schedule[staff]}\")"
      ]
    },
    {
      "cell_type": "code",
      "execution_count": null,
      "metadata": {
        "id": "pWa7imNPusdM"
      },
      "outputs": [],
      "source": []
    }
  ],
  "metadata": {
    "colab": {
      "provenance": []
    },
    "kernelspec": {
      "display_name": "Python 3",
      "name": "python3"
    },
    "language_info": {
      "codemirror_mode": {
        "name": "ipython",
        "version": 3
      },
      "file_extension": ".py",
      "mimetype": "text/x-python",
      "name": "python",
      "nbconvert_exporter": "python",
      "pygments_lexer": "ipython3",
      "version": "3.12.5"
    }
  },
  "nbformat": 4,
  "nbformat_minor": 0
}
