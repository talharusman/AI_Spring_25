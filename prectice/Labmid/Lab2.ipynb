{
 "cells": [
  {
   "cell_type": "code",
   "execution_count": 2,
   "metadata": {},
   "outputs": [
    {
     "name": "stdout",
     "output_type": "stream",
     "text": [
      "A* Search Path:\n",
      "A C B E F \n",
      "Goal reached!\n"
     ]
    },
    {
     "data": {
      "text/plain": [
       "True"
      ]
     },
     "execution_count": 2,
     "metadata": {},
     "output_type": "execute_result"
    }
   ],
   "source": [
    "\n",
    "\n",
    "from queue import PriorityQueue \n",
    "# Example graph represented as an adjacency list with heuristic values included \n",
    "\n",
    "graph = { 'A': [('B', 5, 9), ('C', 8, 5)],  # (neighbor, cost, heuristic) \n",
    "          'B': [('D', 10, 4)],              # (neighbor, cost, heuristic) \n",
    "          'C': [('E', 3, 7)],               # (neighbor, cost, heuristic)\n",
    "          'D': [('F', 7, 5)],                # (neighbor, cost, heuristic)\n",
    "          'E': [('F', 2, 1)],                # (neighbor, cost, heuristic)\n",
    "          'F': []                        \n",
    "        } \n",
    "\n",
    "def astar_search(graph,start,goal):\n",
    "    visited = set() # set to keep track of visited node\n",
    "    priority_queue = PriorityQueue() # priority queue to prioritizze nodes bassed on f-value (cast + heuristice)\n",
    "    priority_queue.put((0, start)) # Enqueue the start node with priority 0\n",
    "    while not priority_queue.empty():\n",
    "        cost ,node= priority_queue.get()  # Dequeue the node with the lowest priority \n",
    "        if node not in visited:\n",
    "            print(node,end=' ')\n",
    "            visited.add(node) # mark the node as visited\n",
    "            if node == goal:\n",
    "                print(\"\\nGoal reached!\") \n",
    "                return True # return the cost of the goal node\n",
    "            for neighbor, neighbor_cost, heuristic in graph[node]:\n",
    "                if neighbor not in visited:\n",
    "                    # Calculate f-value for the neighbor (cost + heuristic) \n",
    "                    f_value = cost + neighbor_cost + heuristic\n",
    "                    priority_queue.put((f_value, neighbor))  # Enqueue neighbor with priority based on f-value \n",
    "    \n",
    "    print(\"\\nGoal not reachable!\")\n",
    "    return False\n",
    "\n",
    "# Example usage: \n",
    "print(\"A* Search Path:\") \n",
    "astar_search(graph, 'A', 'F') \n",
    "\n",
    "\n",
    "\n"
   ]
  },
  {
   "cell_type": "code",
   "execution_count": 3,
   "metadata": {},
   "outputs": [
    {
     "name": "stdout",
     "output_type": "stream",
     "text": [
      "\n",
      "Following is the A* Search:\n",
      "A C F B I \n",
      "Goal found with A*. Path: ['A', 'C', 'F', 'I']\n"
     ]
    }
   ],
   "source": [
    "# Graph with different edge costs\n",
    "graph = {\n",
    "    'A': {'B': 2, 'C': 1},\n",
    "    'B': {'D': 4, 'E': 3},\n",
    "    'C': {'F': 1, 'G': 5},\n",
    "    'D': {'H': 2},\n",
    "    'E': {},\n",
    "    'F': {'I': 6},\n",
    "    'G': {},\n",
    "    'H': {},\n",
    "    'I': {}  # Goal node\n",
    "}\n",
    "\n",
    "# Heuristic function (estimated cost to reach goal 'I')\n",
    "heuristic = {\n",
    "    'A': 7, 'B': 6, 'C': 5, 'D': 4, 'E': 7,\n",
    "    'F': 3, 'G': 6, 'H': 2, 'I': 0  # Goal node has zero heuristic cost\n",
    "}\n",
    "\n",
    "# A* Search Function\n",
    "def a_star(graph, start, goal):\n",
    "    frontier = [(start, heuristic[start])]  # Priority queue (sorted manually)\n",
    "    visited = set()  # Tracks visited nodes\n",
    "    g_costs = {start: 0}  # Cost from start node to each node\n",
    "    came_from = {start: None}  # To reconstruct the shortest path\n",
    "\n",
    "    while frontier:\n",
    "        # Sort frontier by f(n) = g(n) + h(n)\n",
    "        frontier.sort(key=lambda x: x[1])\n",
    "        current_node, _ = frontier.pop(0)  # Get node with lowest f(n)\n",
    "        \n",
    "        if current_node in visited:\n",
    "            continue\n",
    "        \n",
    "        print(current_node, end=\" \")  # Print the current visited node\n",
    "        visited.add(current_node)\n",
    "\n",
    "        # If goal is reached, reconstruct the path\n",
    "        if current_node == goal:\n",
    "            path = []\n",
    "            while current_node is not None:\n",
    "                path.append(current_node)\n",
    "                current_node = came_from[current_node]\n",
    "            path.reverse()\n",
    "            print(f\"\\nGoal found with A*. Path: {path}\")\n",
    "            return\n",
    "        \n",
    "        # Explore neighbors\n",
    "        for neighbor, cost in graph[current_node].items():\n",
    "            new_g_cost = g_costs[current_node] + cost  # Path cost from start to neighbor\n",
    "            f_cost = new_g_cost + heuristic[neighbor]  # f(n) = g(n) + h(n)\n",
    "            \n",
    "            if neighbor not in g_costs or new_g_cost < g_costs[neighbor]:\n",
    "                g_costs[neighbor] = new_g_cost\n",
    "                came_from[neighbor] = current_node\n",
    "                frontier.append((neighbor, f_cost))\n",
    "    \n",
    "    print(\"\\nGoal not found\")  # If the loop ends and goal is not reached\n",
    "\n",
    "# Run A* Search\n",
    "print(\"\\nFollowing is the A* Search:\")\n",
    "a_star(graph, 'A', 'I')\n"
   ]
  }
 ],
 "metadata": {
  "kernelspec": {
   "display_name": "Python 3",
   "language": "python",
   "name": "python3"
  },
  "language_info": {
   "codemirror_mode": {
    "name": "ipython",
    "version": 3
   },
   "file_extension": ".py",
   "mimetype": "text/x-python",
   "name": "python",
   "nbconvert_exporter": "python",
   "pygments_lexer": "ipython3",
   "version": "3.12.5"
  }
 },
 "nbformat": 4,
 "nbformat_minor": 2
}
